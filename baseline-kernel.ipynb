{
  "cells": [
    {
      "metadata": {
        "_uuid": "5ffb21374c7cf4b98e7239045ef9bf312effee25"
      },
      "cell_type": "markdown",
      "source": "# Two Sigma Financial News Competition Official Getting Started Kernel\n## Introduction\nIn this competition you will predict how stocks will change based on the market state and news articles.  You will loop through a long series of trading days; for each day, you'll receive an updated state of the market, and a series of news articles which were published since the last trading day, along with impacted stocks and sentiment analysis.  You'll use this information to predict whether each stock will have increased or decreased ten trading days into the future.  Once you make these predictions, you can move on to the next trading day. \n\nThis competition is different from most Kaggle Competitions in that:\n* You can only submit from Kaggle Kernels, and you may not use other data sources, GPU, or internet access.\n* This is a **two-stage competition**.  In Stage One you can edit your Kernels and improve your model, where Public Leaderboard scores are based on their predictions relative to past market data.  At the beginning of Stage Two, your Kernels are locked, and we will re-run your Kernels over the next six months, scoring them based on their predictions relative to live data as those six months unfold.\n* You must use our custom **`kaggle.competitions.twosigmanews`** Python module.  The purpose of this module is to control the flow of information to ensure that you are not using future data to make predictions for the current trading day.\n\n## In this Starter Kernel, we'll show how to use the **`twosigmanews`** module to get the training data, get test features and make predictions, and write the submission file.\n## TL;DR: End-to-End Usage Example\n```\nfrom kaggle.competitions import twosigmanews\nenv = twosigmanews.make_env()\n\n(market_train_df, news_train_df) = env.get_training_data()\ntrain_my_model(market_train_df, news_train_df)\n\nfor (market_obs_df, news_obs_df, predictions_template_df) in env.get_prediction_days():\n  predictions_df = make_my_predictions(market_obs_df, news_obs_df, predictions_template_df)\n  env.predict(predictions_df)\n  \nenv.write_submission_file()\n```\nNote that `train_my_model` and `make_my_predictions` are functions you need to write for the above example to work."
    },
    {
      "metadata": {
        "_uuid": "225708f447eee93041881f9d6c3a3e890cb16718"
      },
      "cell_type": "markdown",
      "source": "## In-depth Introduction\nFirst let's import the module and create an environment."
    },
    {
      "metadata": {
        "_uuid": "8f2839f25d086af736a60e9eeb907d3b93b6e0e5",
        "_cell_guid": "b1076dfc-b9ad-4769-8c92-a6c4dae69d19",
        "trusted": true
      },
      "cell_type": "code",
      "source": "from kaggle.competitions import twosigmanews\n# You can only call make_env() once, so don't lose it!\nenv = twosigmanews.make_env()\nprint('Done!')",
      "execution_count": 1,
      "outputs": [
        {
          "output_type": "stream",
          "text": "Loading the data... This could take a minute.\nDone!\nDone!\n",
          "name": "stdout"
        }
      ]
    },
    {
      "metadata": {
        "_uuid": "6034b46fce8c9d55d403de32e7cebe8cb9fef96d"
      },
      "cell_type": "markdown",
      "source": "## **`get_training_data`** function\n\nReturns the training data DataFrames as a tuple of:\n* `market_train_df`: DataFrame with market training data\n* `news_train_df`: DataFrame with news training data\n\nThese DataFrames contain all market and news data from February 2007 to December 2016.  See the [competition's Data tab](https://www.kaggle.com/c/two-sigma-financial-news/data) for more information on what columns are included in each DataFrame."
    },
    {
      "metadata": {
        "trusted": true,
        "_uuid": "c20fa6deeac9d374c98774abd90bdc76b023ee63"
      },
      "cell_type": "code",
      "source": "(market_train_df, news_train_df) = env.get_training_data()",
      "execution_count": 2,
      "outputs": []
    },
    {
      "metadata": {
        "trusted": true,
        "_uuid": "6811a1a76f08b2a029543cf73bcdf4dfca7dc362"
      },
      "cell_type": "code",
      "source": "market_train_df.head()",
      "execution_count": 3,
      "outputs": [
        {
          "output_type": "execute_result",
          "execution_count": 3,
          "data": {
            "text/plain": "                       time   ...    universe\n0 2007-02-01 22:00:00+00:00   ...         1.0\n1 2007-02-01 22:00:00+00:00   ...         0.0\n2 2007-02-01 22:00:00+00:00   ...         1.0\n3 2007-02-01 22:00:00+00:00   ...         1.0\n4 2007-02-01 22:00:00+00:00   ...         1.0\n\n[5 rows x 16 columns]",
            "text/html": "<div>\n<style scoped>\n    .dataframe tbody tr th:only-of-type {\n        vertical-align: middle;\n    }\n\n    .dataframe tbody tr th {\n        vertical-align: top;\n    }\n\n    .dataframe thead th {\n        text-align: right;\n    }\n</style>\n<table border=\"1\" class=\"dataframe\">\n  <thead>\n    <tr style=\"text-align: right;\">\n      <th></th>\n      <th>time</th>\n      <th>assetCode</th>\n      <th>assetName</th>\n      <th>volume</th>\n      <th>close</th>\n      <th>open</th>\n      <th>returnsClosePrevRaw1</th>\n      <th>returnsOpenPrevRaw1</th>\n      <th>returnsClosePrevMktres1</th>\n      <th>returnsOpenPrevMktres1</th>\n      <th>returnsClosePrevRaw10</th>\n      <th>returnsOpenPrevRaw10</th>\n      <th>returnsClosePrevMktres10</th>\n      <th>returnsOpenPrevMktres10</th>\n      <th>returnsOpenNextMktres10</th>\n      <th>universe</th>\n    </tr>\n  </thead>\n  <tbody>\n    <tr>\n      <th>0</th>\n      <td>2007-02-01 22:00:00+00:00</td>\n      <td>A.N</td>\n      <td>Agilent Technologies Inc</td>\n      <td>2606900.0</td>\n      <td>32.19</td>\n      <td>32.17</td>\n      <td>0.005938</td>\n      <td>0.005312</td>\n      <td>NaN</td>\n      <td>NaN</td>\n      <td>-0.001860</td>\n      <td>0.000622</td>\n      <td>NaN</td>\n      <td>NaN</td>\n      <td>0.034672</td>\n      <td>1.0</td>\n    </tr>\n    <tr>\n      <th>1</th>\n      <td>2007-02-01 22:00:00+00:00</td>\n      <td>AAI.N</td>\n      <td>AirTran Holdings Inc</td>\n      <td>2051600.0</td>\n      <td>11.12</td>\n      <td>11.08</td>\n      <td>0.004517</td>\n      <td>-0.007168</td>\n      <td>NaN</td>\n      <td>NaN</td>\n      <td>-0.078708</td>\n      <td>-0.088066</td>\n      <td>NaN</td>\n      <td>NaN</td>\n      <td>0.027803</td>\n      <td>0.0</td>\n    </tr>\n    <tr>\n      <th>2</th>\n      <td>2007-02-01 22:00:00+00:00</td>\n      <td>AAP.N</td>\n      <td>Advance Auto Parts Inc</td>\n      <td>1164800.0</td>\n      <td>37.51</td>\n      <td>37.99</td>\n      <td>-0.011594</td>\n      <td>0.025648</td>\n      <td>NaN</td>\n      <td>NaN</td>\n      <td>0.014332</td>\n      <td>0.045405</td>\n      <td>NaN</td>\n      <td>NaN</td>\n      <td>0.024433</td>\n      <td>1.0</td>\n    </tr>\n    <tr>\n      <th>3</th>\n      <td>2007-02-01 22:00:00+00:00</td>\n      <td>AAPL.O</td>\n      <td>Apple Inc</td>\n      <td>23747329.0</td>\n      <td>84.74</td>\n      <td>86.23</td>\n      <td>-0.011548</td>\n      <td>0.016324</td>\n      <td>NaN</td>\n      <td>NaN</td>\n      <td>-0.048613</td>\n      <td>-0.037182</td>\n      <td>NaN</td>\n      <td>NaN</td>\n      <td>-0.007425</td>\n      <td>1.0</td>\n    </tr>\n    <tr>\n      <th>4</th>\n      <td>2007-02-01 22:00:00+00:00</td>\n      <td>ABB.N</td>\n      <td>ABB Ltd</td>\n      <td>1208600.0</td>\n      <td>18.02</td>\n      <td>18.01</td>\n      <td>0.011791</td>\n      <td>0.025043</td>\n      <td>NaN</td>\n      <td>NaN</td>\n      <td>0.012929</td>\n      <td>0.020397</td>\n      <td>NaN</td>\n      <td>NaN</td>\n      <td>-0.017994</td>\n      <td>1.0</td>\n    </tr>\n  </tbody>\n</table>\n</div>"
          },
          "metadata": {}
        }
      ]
    },
    {
      "metadata": {
        "trusted": true,
        "_uuid": "84b5a58f67ebded82e6aabc66ca36411e6db35a9"
      },
      "cell_type": "code",
      "source": "market_train_df.tail()",
      "execution_count": 4,
      "outputs": [
        {
          "output_type": "execute_result",
          "execution_count": 4,
          "data": {
            "text/plain": "                             time   ...    universe\n4072951 2016-12-30 22:00:00+00:00   ...         0.0\n4072952 2016-12-30 22:00:00+00:00   ...         0.0\n4072953 2016-12-30 22:00:00+00:00   ...         0.0\n4072954 2016-12-30 22:00:00+00:00   ...         1.0\n4072955 2016-12-30 22:00:00+00:00   ...         1.0\n\n[5 rows x 16 columns]",
            "text/html": "<div>\n<style scoped>\n    .dataframe tbody tr th:only-of-type {\n        vertical-align: middle;\n    }\n\n    .dataframe tbody tr th {\n        vertical-align: top;\n    }\n\n    .dataframe thead th {\n        text-align: right;\n    }\n</style>\n<table border=\"1\" class=\"dataframe\">\n  <thead>\n    <tr style=\"text-align: right;\">\n      <th></th>\n      <th>time</th>\n      <th>assetCode</th>\n      <th>assetName</th>\n      <th>volume</th>\n      <th>close</th>\n      <th>open</th>\n      <th>returnsClosePrevRaw1</th>\n      <th>returnsOpenPrevRaw1</th>\n      <th>returnsClosePrevMktres1</th>\n      <th>returnsOpenPrevMktres1</th>\n      <th>returnsClosePrevRaw10</th>\n      <th>returnsOpenPrevRaw10</th>\n      <th>returnsClosePrevMktres10</th>\n      <th>returnsOpenPrevMktres10</th>\n      <th>returnsOpenNextMktres10</th>\n      <th>universe</th>\n    </tr>\n  </thead>\n  <tbody>\n    <tr>\n      <th>4072951</th>\n      <td>2016-12-30 22:00:00+00:00</td>\n      <td>ZIOP.O</td>\n      <td>ZIOPHARM Oncology Inc</td>\n      <td>1608829.0</td>\n      <td>5.35</td>\n      <td>5.37</td>\n      <td>-0.003724</td>\n      <td>0.000000</td>\n      <td>0.000536</td>\n      <td>-0.001868</td>\n      <td>-0.165367</td>\n      <td>-0.138042</td>\n      <td>-0.139597</td>\n      <td>-0.135913</td>\n      <td>0.051189</td>\n      <td>0.0</td>\n    </tr>\n    <tr>\n      <th>4072952</th>\n      <td>2016-12-30 22:00:00+00:00</td>\n      <td>ZLTQ.O</td>\n      <td>ZELTIQ Aesthetics Inc</td>\n      <td>347830.0</td>\n      <td>43.52</td>\n      <td>43.62</td>\n      <td>-0.000689</td>\n      <td>0.000000</td>\n      <td>-0.000515</td>\n      <td>0.000493</td>\n      <td>0.002996</td>\n      <td>0.002989</td>\n      <td>0.008213</td>\n      <td>0.003210</td>\n      <td>-0.048555</td>\n      <td>0.0</td>\n    </tr>\n    <tr>\n      <th>4072953</th>\n      <td>2016-12-30 22:00:00+00:00</td>\n      <td>ZNGA.O</td>\n      <td>Zynga Inc</td>\n      <td>7396601.0</td>\n      <td>2.57</td>\n      <td>2.58</td>\n      <td>-0.011538</td>\n      <td>0.000000</td>\n      <td>-0.006004</td>\n      <td>-0.001034</td>\n      <td>-0.091873</td>\n      <td>-0.078571</td>\n      <td>-0.077252</td>\n      <td>-0.077188</td>\n      <td>0.011703</td>\n      <td>0.0</td>\n    </tr>\n    <tr>\n      <th>4072954</th>\n      <td>2016-12-30 22:00:00+00:00</td>\n      <td>ZTO.N</td>\n      <td>Unknown</td>\n      <td>3146519.0</td>\n      <td>12.07</td>\n      <td>12.50</td>\n      <td>-0.029743</td>\n      <td>0.007252</td>\n      <td>-0.028460</td>\n      <td>0.006719</td>\n      <td>-0.065066</td>\n      <td>-0.042146</td>\n      <td>-0.078104</td>\n      <td>-0.043813</td>\n      <td>0.083367</td>\n      <td>1.0</td>\n    </tr>\n    <tr>\n      <th>4072955</th>\n      <td>2016-12-30 22:00:00+00:00</td>\n      <td>ZTS.N</td>\n      <td>Zoetis Inc</td>\n      <td>1701204.0</td>\n      <td>53.53</td>\n      <td>53.64</td>\n      <td>-0.001678</td>\n      <td>0.003091</td>\n      <td>0.005060</td>\n      <td>0.002885</td>\n      <td>0.023127</td>\n      <td>0.028177</td>\n      <td>0.026566</td>\n      <td>0.028719</td>\n      <td>-0.016220</td>\n      <td>1.0</td>\n    </tr>\n  </tbody>\n</table>\n</div>"
          },
          "metadata": {}
        }
      ]
    },
    {
      "metadata": {
        "trusted": true,
        "_uuid": "25115010e14ef3497932902db0cef68501ddca11"
      },
      "cell_type": "code",
      "source": "news_train_df.head()",
      "execution_count": 5,
      "outputs": [
        {
          "output_type": "execute_result",
          "execution_count": 5,
          "data": {
            "text/plain": "                       time      ...       volumeCounts7D\n0 2007-01-01 04:29:32+00:00      ...                    7\n1 2007-01-01 07:03:35+00:00      ...                    3\n2 2007-01-01 11:29:56+00:00      ...                   17\n3 2007-01-01 12:08:37+00:00      ...                   15\n4 2007-01-01 12:08:37+00:00      ...                    0\n\n[5 rows x 35 columns]",
            "text/html": "<div>\n<style scoped>\n    .dataframe tbody tr th:only-of-type {\n        vertical-align: middle;\n    }\n\n    .dataframe tbody tr th {\n        vertical-align: top;\n    }\n\n    .dataframe thead th {\n        text-align: right;\n    }\n</style>\n<table border=\"1\" class=\"dataframe\">\n  <thead>\n    <tr style=\"text-align: right;\">\n      <th></th>\n      <th>time</th>\n      <th>sourceTimestamp</th>\n      <th>firstCreated</th>\n      <th>sourceId</th>\n      <th>headline</th>\n      <th>urgency</th>\n      <th>takeSequence</th>\n      <th>provider</th>\n      <th>subjects</th>\n      <th>audiences</th>\n      <th>bodySize</th>\n      <th>companyCount</th>\n      <th>headlineTag</th>\n      <th>marketCommentary</th>\n      <th>sentenceCount</th>\n      <th>wordCount</th>\n      <th>assetCodes</th>\n      <th>assetName</th>\n      <th>firstMentionSentence</th>\n      <th>relevance</th>\n      <th>sentimentClass</th>\n      <th>sentimentNegative</th>\n      <th>sentimentNeutral</th>\n      <th>sentimentPositive</th>\n      <th>sentimentWordCount</th>\n      <th>noveltyCount12H</th>\n      <th>noveltyCount24H</th>\n      <th>noveltyCount3D</th>\n      <th>noveltyCount5D</th>\n      <th>noveltyCount7D</th>\n      <th>volumeCounts12H</th>\n      <th>volumeCounts24H</th>\n      <th>volumeCounts3D</th>\n      <th>volumeCounts5D</th>\n      <th>volumeCounts7D</th>\n    </tr>\n  </thead>\n  <tbody>\n    <tr>\n      <th>0</th>\n      <td>2007-01-01 04:29:32+00:00</td>\n      <td>2007-01-01 04:29:32+00:00</td>\n      <td>2007-01-01 04:29:32+00:00</td>\n      <td>e58c6279551b85cf</td>\n      <td>China's Daqing pumps 43.41 mln tonnes of oil i...</td>\n      <td>3</td>\n      <td>1</td>\n      <td>RTRS</td>\n      <td>{'ENR', 'ASIA', 'CN', 'NGS', 'EMRG', 'RTRS', '...</td>\n      <td>{'Z', 'O', 'OIL'}</td>\n      <td>1438</td>\n      <td>1</td>\n      <td></td>\n      <td>False</td>\n      <td>11</td>\n      <td>275</td>\n      <td>{'0857.HK', '0857.F', '0857.DE', 'PTR.N'}</td>\n      <td>PetroChina Co Ltd</td>\n      <td>6</td>\n      <td>0.235702</td>\n      <td>-1</td>\n      <td>0.500739</td>\n      <td>0.419327</td>\n      <td>0.079934</td>\n      <td>73</td>\n      <td>0</td>\n      <td>0</td>\n      <td>0</td>\n      <td>0</td>\n      <td>0</td>\n      <td>0</td>\n      <td>0</td>\n      <td>3</td>\n      <td>6</td>\n      <td>7</td>\n    </tr>\n    <tr>\n      <th>1</th>\n      <td>2007-01-01 07:03:35+00:00</td>\n      <td>2007-01-01 07:03:34+00:00</td>\n      <td>2007-01-01 07:03:34+00:00</td>\n      <td>5a31c4327427f63f</td>\n      <td>FEATURE-In kidnapping, finesse works best</td>\n      <td>3</td>\n      <td>1</td>\n      <td>RTRS</td>\n      <td>{'FEA', 'CA', 'LATAM', 'MX', 'INS', 'ASIA', 'I...</td>\n      <td>{'PGE', 'PCO', 'G', 'ESN', 'MD', 'PCU', 'DNP',...</td>\n      <td>4413</td>\n      <td>1</td>\n      <td>FEATURE</td>\n      <td>False</td>\n      <td>55</td>\n      <td>907</td>\n      <td>{'STA.N'}</td>\n      <td>Travelers Companies Inc</td>\n      <td>8</td>\n      <td>0.447214</td>\n      <td>-1</td>\n      <td>0.600082</td>\n      <td>0.345853</td>\n      <td>0.054064</td>\n      <td>62</td>\n      <td>1</td>\n      <td>1</td>\n      <td>1</td>\n      <td>1</td>\n      <td>1</td>\n      <td>1</td>\n      <td>1</td>\n      <td>3</td>\n      <td>3</td>\n      <td>3</td>\n    </tr>\n    <tr>\n      <th>2</th>\n      <td>2007-01-01 11:29:56+00:00</td>\n      <td>2007-01-01 11:29:56+00:00</td>\n      <td>2007-01-01 11:29:56+00:00</td>\n      <td>1cefd27a40fabdfe</td>\n      <td>PRESS DIGEST - Wall Street Journal - Jan 1</td>\n      <td>3</td>\n      <td>1</td>\n      <td>RTRS</td>\n      <td>{'RET', 'ENR', 'ID', 'BG', 'US', 'PRESS', 'IQ'...</td>\n      <td>{'T', 'DNP', 'PSC', 'U', 'D', 'M', 'RNP', 'PTD...</td>\n      <td>2108</td>\n      <td>2</td>\n      <td>PRESS DIGEST</td>\n      <td>False</td>\n      <td>15</td>\n      <td>388</td>\n      <td>{'WMT.DE', 'WMT.N'}</td>\n      <td>Wal-Mart Stores Inc</td>\n      <td>14</td>\n      <td>0.377964</td>\n      <td>-1</td>\n      <td>0.450049</td>\n      <td>0.295671</td>\n      <td>0.254280</td>\n      <td>67</td>\n      <td>0</td>\n      <td>0</td>\n      <td>0</td>\n      <td>0</td>\n      <td>0</td>\n      <td>0</td>\n      <td>0</td>\n      <td>5</td>\n      <td>11</td>\n      <td>17</td>\n    </tr>\n    <tr>\n      <th>3</th>\n      <td>2007-01-01 12:08:37+00:00</td>\n      <td>2007-01-01 12:08:37+00:00</td>\n      <td>2007-01-01 12:08:37+00:00</td>\n      <td>23768af19dc69992</td>\n      <td>PRESS DIGEST - New York Times - Jan 1</td>\n      <td>3</td>\n      <td>1</td>\n      <td>RTRS</td>\n      <td>{'FUND', 'FIN', 'CA', 'SFWR', 'INS', 'PUB', 'B...</td>\n      <td>{'T', 'DNP', 'PSC', 'U', 'D', 'M', 'RNP', 'PTD...</td>\n      <td>1776</td>\n      <td>6</td>\n      <td>PRESS DIGEST</td>\n      <td>False</td>\n      <td>14</td>\n      <td>325</td>\n      <td>{'GOOG.O', 'GOOG.OQ', 'GOOGa.DE'}</td>\n      <td>Google Inc</td>\n      <td>13</td>\n      <td>0.149071</td>\n      <td>-1</td>\n      <td>0.752917</td>\n      <td>0.162715</td>\n      <td>0.084368</td>\n      <td>83</td>\n      <td>0</td>\n      <td>0</td>\n      <td>0</td>\n      <td>0</td>\n      <td>0</td>\n      <td>0</td>\n      <td>0</td>\n      <td>5</td>\n      <td>13</td>\n      <td>15</td>\n    </tr>\n    <tr>\n      <th>4</th>\n      <td>2007-01-01 12:08:37+00:00</td>\n      <td>2007-01-01 12:08:37+00:00</td>\n      <td>2007-01-01 12:08:37+00:00</td>\n      <td>23768af19dc69992</td>\n      <td>PRESS DIGEST - New York Times - Jan 1</td>\n      <td>3</td>\n      <td>1</td>\n      <td>RTRS</td>\n      <td>{'FUND', 'FIN', 'CA', 'SFWR', 'INS', 'PUB', 'B...</td>\n      <td>{'T', 'DNP', 'PSC', 'U', 'D', 'M', 'RNP', 'PTD...</td>\n      <td>1776</td>\n      <td>6</td>\n      <td>PRESS DIGEST</td>\n      <td>False</td>\n      <td>14</td>\n      <td>325</td>\n      <td>{'XMSR.O'}</td>\n      <td>XM Satellite Radio Holdings Inc</td>\n      <td>11</td>\n      <td>0.149071</td>\n      <td>-1</td>\n      <td>0.699274</td>\n      <td>0.209360</td>\n      <td>0.091366</td>\n      <td>102</td>\n      <td>0</td>\n      <td>0</td>\n      <td>0</td>\n      <td>0</td>\n      <td>0</td>\n      <td>0</td>\n      <td>0</td>\n      <td>0</td>\n      <td>0</td>\n      <td>0</td>\n    </tr>\n  </tbody>\n</table>\n</div>"
          },
          "metadata": {}
        }
      ]
    },
    {
      "metadata": {
        "trusted": true,
        "_uuid": "cdc6b9842073bcb7d63cddc30e5bd7826ccfdfa1"
      },
      "cell_type": "code",
      "source": "news_train_df.tail()",
      "execution_count": 6,
      "outputs": [
        {
          "output_type": "execute_result",
          "execution_count": 6,
          "data": {
            "text/plain": "                             time      ...       volumeCounts7D\n9328745 2016-12-30 21:56:06+00:00      ...                   10\n9328746 2016-12-30 21:56:28+00:00      ...                   11\n9328747 2016-12-30 21:57:00+00:00      ...                   41\n9328748 2016-12-30 21:58:53+00:00      ...                    3\n9328749 2016-12-30 22:00:00+00:00      ...                    0\n\n[5 rows x 35 columns]",
            "text/html": "<div>\n<style scoped>\n    .dataframe tbody tr th:only-of-type {\n        vertical-align: middle;\n    }\n\n    .dataframe tbody tr th {\n        vertical-align: top;\n    }\n\n    .dataframe thead th {\n        text-align: right;\n    }\n</style>\n<table border=\"1\" class=\"dataframe\">\n  <thead>\n    <tr style=\"text-align: right;\">\n      <th></th>\n      <th>time</th>\n      <th>sourceTimestamp</th>\n      <th>firstCreated</th>\n      <th>sourceId</th>\n      <th>headline</th>\n      <th>urgency</th>\n      <th>takeSequence</th>\n      <th>provider</th>\n      <th>subjects</th>\n      <th>audiences</th>\n      <th>bodySize</th>\n      <th>companyCount</th>\n      <th>headlineTag</th>\n      <th>marketCommentary</th>\n      <th>sentenceCount</th>\n      <th>wordCount</th>\n      <th>assetCodes</th>\n      <th>assetName</th>\n      <th>firstMentionSentence</th>\n      <th>relevance</th>\n      <th>sentimentClass</th>\n      <th>sentimentNegative</th>\n      <th>sentimentNeutral</th>\n      <th>sentimentPositive</th>\n      <th>sentimentWordCount</th>\n      <th>noveltyCount12H</th>\n      <th>noveltyCount24H</th>\n      <th>noveltyCount3D</th>\n      <th>noveltyCount5D</th>\n      <th>noveltyCount7D</th>\n      <th>volumeCounts12H</th>\n      <th>volumeCounts24H</th>\n      <th>volumeCounts3D</th>\n      <th>volumeCounts5D</th>\n      <th>volumeCounts7D</th>\n    </tr>\n  </thead>\n  <tbody>\n    <tr>\n      <th>9328745</th>\n      <td>2016-12-30 21:56:06+00:00</td>\n      <td>2016-12-30 21:56:06+00:00</td>\n      <td>2016-12-30 21:56:06+00:00</td>\n      <td>fc80724160cc7bf4</td>\n      <td>INTREXON - ON DEC 30, CO, THIRD SECURITY EXECU...</td>\n      <td>1</td>\n      <td>1</td>\n      <td>RTRS</td>\n      <td>{'BLR', 'HECA', 'PHMR', 'MRCH', 'US', 'RTRS', ...</td>\n      <td>{'E', 'U'}</td>\n      <td>0</td>\n      <td>1</td>\n      <td></td>\n      <td>False</td>\n      <td>1</td>\n      <td>35</td>\n      <td>{'XON.N'}</td>\n      <td>Intrexon Corp</td>\n      <td>1</td>\n      <td>1.0</td>\n      <td>1</td>\n      <td>0.115706</td>\n      <td>0.410445</td>\n      <td>0.473849</td>\n      <td>35</td>\n      <td>0</td>\n      <td>0</td>\n      <td>0</td>\n      <td>0</td>\n      <td>0</td>\n      <td>0</td>\n      <td>1</td>\n      <td>10</td>\n      <td>10</td>\n      <td>10</td>\n    </tr>\n    <tr>\n      <th>9328746</th>\n      <td>2016-12-30 21:56:28+00:00</td>\n      <td>2016-12-30 21:56:28+00:00</td>\n      <td>2016-12-30 21:56:06+00:00</td>\n      <td>2e3e5407e186dd51</td>\n      <td>INTREXON CORP - AMENDMENT EXTENDS TERM OF SERV...</td>\n      <td>1</td>\n      <td>2</td>\n      <td>RTRS</td>\n      <td>{'BLR', 'DBT', 'HECA', 'PHMR', 'MRCH', 'BACT',...</td>\n      <td>{'E', 'U'}</td>\n      <td>0</td>\n      <td>1</td>\n      <td></td>\n      <td>False</td>\n      <td>1</td>\n      <td>20</td>\n      <td>{'XON.N'}</td>\n      <td>Intrexon Corp</td>\n      <td>1</td>\n      <td>1.0</td>\n      <td>1</td>\n      <td>0.032272</td>\n      <td>0.122635</td>\n      <td>0.845093</td>\n      <td>20</td>\n      <td>0</td>\n      <td>0</td>\n      <td>1</td>\n      <td>1</td>\n      <td>1</td>\n      <td>1</td>\n      <td>2</td>\n      <td>11</td>\n      <td>11</td>\n      <td>11</td>\n    </tr>\n    <tr>\n      <th>9328747</th>\n      <td>2016-12-30 21:57:00+00:00</td>\n      <td>2016-12-30 21:57:00+00:00</td>\n      <td>2016-12-30 21:57:00+00:00</td>\n      <td>cef1bb88f92ca104</td>\n      <td>EQUITY ALERT: Rosen Law Firm Announces Investi...</td>\n      <td>3</td>\n      <td>1</td>\n      <td>BSW</td>\n      <td>{'CMSS', 'CLJ', 'GEN', 'NEWR', 'HECA', 'PHMR',...</td>\n      <td>{'BSW', 'CNR'}</td>\n      <td>3734</td>\n      <td>1</td>\n      <td></td>\n      <td>False</td>\n      <td>16</td>\n      <td>664</td>\n      <td>{'SGEN.O', 'SGEN.OQ'}</td>\n      <td>Seattle Genetics Inc</td>\n      <td>1</td>\n      <td>1.0</td>\n      <td>-1</td>\n      <td>0.651900</td>\n      <td>0.227707</td>\n      <td>0.120393</td>\n      <td>360</td>\n      <td>0</td>\n      <td>0</td>\n      <td>3</td>\n      <td>4</td>\n      <td>4</td>\n      <td>1</td>\n      <td>2</td>\n      <td>18</td>\n      <td>41</td>\n      <td>41</td>\n    </tr>\n    <tr>\n      <th>9328748</th>\n      <td>2016-12-30 21:58:53+00:00</td>\n      <td>2016-12-30 21:58:53+00:00</td>\n      <td>2016-12-30 21:58:53+00:00</td>\n      <td>c26c3df1804571a6</td>\n      <td>PROFESSIONAL DIVERSITY NETWORK INC - FILES FOR...</td>\n      <td>1</td>\n      <td>1</td>\n      <td>RTRS</td>\n      <td>{'BLR', 'SWIT', 'ITSE', 'SISU', 'BACT', 'TMT',...</td>\n      <td>{'E', 'U'}</td>\n      <td>0</td>\n      <td>1</td>\n      <td></td>\n      <td>False</td>\n      <td>1</td>\n      <td>23</td>\n      <td>{'IPDN.O', 'IPDN.OQ'}</td>\n      <td>Professional Diversity Network Inc</td>\n      <td>1</td>\n      <td>1.0</td>\n      <td>-1</td>\n      <td>0.816252</td>\n      <td>0.126928</td>\n      <td>0.056819</td>\n      <td>23</td>\n      <td>0</td>\n      <td>0</td>\n      <td>0</td>\n      <td>0</td>\n      <td>0</td>\n      <td>0</td>\n      <td>0</td>\n      <td>3</td>\n      <td>3</td>\n      <td>3</td>\n    </tr>\n    <tr>\n      <th>9328749</th>\n      <td>2016-12-30 22:00:00+00:00</td>\n      <td>2016-12-30 22:00:00+00:00</td>\n      <td>2016-12-30 22:00:00+00:00</td>\n      <td>daea2d46dc7f5303</td>\n      <td>JPMorgan China Region Fund, Inc. Board to Subm...</td>\n      <td>3</td>\n      <td>1</td>\n      <td>BSW</td>\n      <td>{'CMSS', 'NEWR', 'INVT', 'BACT', 'BSUP', 'INDS...</td>\n      <td>{'BSW', 'CNR'}</td>\n      <td>2969</td>\n      <td>1</td>\n      <td></td>\n      <td>False</td>\n      <td>15</td>\n      <td>492</td>\n      <td>{'JFC.N'}</td>\n      <td>JPMorgan China Region Fund Inc</td>\n      <td>1</td>\n      <td>1.0</td>\n      <td>1</td>\n      <td>0.130152</td>\n      <td>0.388845</td>\n      <td>0.481002</td>\n      <td>383</td>\n      <td>0</td>\n      <td>0</td>\n      <td>0</td>\n      <td>0</td>\n      <td>0</td>\n      <td>0</td>\n      <td>0</td>\n      <td>0</td>\n      <td>0</td>\n      <td>0</td>\n    </tr>\n  </tbody>\n</table>\n</div>"
          },
          "metadata": {}
        }
      ]
    },
    {
      "metadata": {
        "trusted": true,
        "_uuid": "840aa03b49d675953f080e4069f79f435282bb43"
      },
      "cell_type": "markdown",
      "source": "## `get_prediction_days` function\n\nGenerator which loops through each \"prediction day\" (trading day) and provides all market and news observations which occurred since the last data you've received.  Once you call **`predict`** to make your future predictions, you can continue on to the next prediction day.\n\nYields:\n* While there are more prediction day(s) and `predict` was called successfully since the last yield, yields a tuple of:\n    * `market_observations_df`: DataFrame with market observations for the next prediction day.\n    * `news_observations_df`: DataFrame with news observations for the next prediction day.\n    * `predictions_template_df`: DataFrame with `assetCode` and `confidenceValue` columns, prefilled with `confidenceValue = 0`, to be filled in and passed back to the `predict` function.\n* If `predict` has not been called since the last yield, yields `None`."
    },
    {
      "metadata": {
        "trusted": true,
        "_uuid": "724c38149860c8e9058474ac9045c2301e8a20da"
      },
      "cell_type": "code",
      "source": "# You can only iterate through a result from `get_prediction_days()` once\n# so be careful not to lose it once you start iterating.\ndays = env.get_prediction_days()",
      "execution_count": null,
      "outputs": []
    },
    {
      "metadata": {
        "trusted": true,
        "_uuid": "8d5781f889893e3e34b054687fd538c1a76bfdcc"
      },
      "cell_type": "code",
      "source": "(market_obs_df, news_obs_df, predictions_template_df) = next(days)",
      "execution_count": null,
      "outputs": []
    },
    {
      "metadata": {
        "trusted": true,
        "_uuid": "fe1cb6accc3536258e7687c64ab3e5e5caa6334a"
      },
      "cell_type": "code",
      "source": "market_obs_df.head()",
      "execution_count": null,
      "outputs": []
    },
    {
      "metadata": {
        "trusted": true,
        "_uuid": "11c5b072aefdd54e6fbe9ae71dc3ea41909ade19"
      },
      "cell_type": "code",
      "source": "news_obs_df.head()",
      "execution_count": null,
      "outputs": []
    },
    {
      "metadata": {
        "trusted": true,
        "_uuid": "f99f6364881767a4071da9ea19e18163a7ce066b"
      },
      "cell_type": "code",
      "source": "predictions_template_df.head()",
      "execution_count": null,
      "outputs": []
    },
    {
      "metadata": {
        "_uuid": "11e95f2e3d493ee6e1023c7a4191310adde5d2bf"
      },
      "cell_type": "markdown",
      "source": "Note that we'll get an error if we try to continue on to the next prediction day without making our predictions for the current day."
    },
    {
      "metadata": {
        "trusted": true,
        "_uuid": "b8ac953a3afbfca2fb200bbf8f0f7339bec7e6f1"
      },
      "cell_type": "code",
      "source": "next(days)",
      "execution_count": null,
      "outputs": []
    },
    {
      "metadata": {
        "trusted": true,
        "_uuid": "ba72731adf652d6011652e906d8b340d6572904e"
      },
      "cell_type": "markdown",
      "source": "### **`predict`** function\nStores your predictions for the current prediction day.  Expects the same format as you saw in `predictions_template_df` returned from `get_prediction_days`.\n\nArgs:\n* `predictions_df`: DataFrame which must have the following columns:\n    * `assetCode`: The market asset.\n    * `confidenceValue`: Your confidence whether the asset will increase or decrease in 10 trading days.  All values must be in the range `[-1.0, 1.0]`.\n\nThe `predictions_df` you send **must** contain the exact set of rows which were given to you in the `predictions_template_df` returned from `get_prediction_days`.  The `predict` function does not validate this, but if you are missing any `assetCode`s or add any extraneous `assetCode`s, then your submission will fail."
    },
    {
      "metadata": {
        "_uuid": "9cd8317a5e52180b592ee2abc1d2177214642a3c"
      },
      "cell_type": "markdown",
      "source": "Let's make random predictions for the first day:"
    },
    {
      "metadata": {
        "trusted": true,
        "_uuid": "a3f2197ed790f1aff1356a6954575fde976a4935"
      },
      "cell_type": "code",
      "source": "import numpy as np\ndef make_random_predictions(predictions_df):\n    predictions_df.confidenceValue = 2.0 * np.random.rand(len(predictions_df)) - 1.0",
      "execution_count": null,
      "outputs": []
    },
    {
      "metadata": {
        "trusted": true,
        "_uuid": "ca72b7003f24f4aa0c4afe25b600aae31abd64d5"
      },
      "cell_type": "code",
      "source": "make_random_predictions(predictions_template_df)\nenv.predict(predictions_template_df)",
      "execution_count": null,
      "outputs": []
    },
    {
      "metadata": {
        "_uuid": "ff62c167b459c5895383fb05fd9260c14be8c1b8"
      },
      "cell_type": "markdown",
      "source": "Now we can continue on to the next prediction day and make another round of random predictions for it:"
    },
    {
      "metadata": {
        "trusted": true,
        "_uuid": "4e2293d44aad86d09d25326c4ede6f566ab69721"
      },
      "cell_type": "code",
      "source": "(market_obs_df, news_obs_df, predictions_template_df) = next(days)",
      "execution_count": null,
      "outputs": []
    },
    {
      "metadata": {
        "trusted": true,
        "_uuid": "140aee54dc838549f87f041a97c7a809ee4e0f6f"
      },
      "cell_type": "code",
      "source": "market_obs_df.head()",
      "execution_count": null,
      "outputs": []
    },
    {
      "metadata": {
        "trusted": true,
        "_uuid": "b02d43dec4b881564cd43ff6239c7aa97d94a7af"
      },
      "cell_type": "code",
      "source": "news_obs_df.head()",
      "execution_count": null,
      "outputs": []
    },
    {
      "metadata": {
        "trusted": true,
        "_uuid": "5233f1b22f5ddac08adb50bbaa6444a0da4a24bc"
      },
      "cell_type": "code",
      "source": "predictions_template_df.head()",
      "execution_count": null,
      "outputs": []
    },
    {
      "metadata": {
        "trusted": true,
        "_uuid": "a19142739096135d237e2837d8e10c992e53a6e5"
      },
      "cell_type": "code",
      "source": "make_random_predictions(predictions_template_df)\nenv.predict(predictions_template_df)",
      "execution_count": null,
      "outputs": []
    },
    {
      "metadata": {
        "_uuid": "8056b881707072c379ad2e89b9c59c3c041a2ab7"
      },
      "cell_type": "markdown",
      "source": "## Main Loop\nLet's loop through all the days and make our random predictions.  The `days` generator (returned from `get_prediction_days`) will simply stop returning values once you've reached the end."
    },
    {
      "metadata": {
        "trusted": true,
        "_uuid": "ef60bc52a8a228e5a2ce18e4bd416f1f1f25aeae"
      },
      "cell_type": "code",
      "source": "for (market_obs_df, news_obs_df, predictions_template_df) in days:\n    make_random_predictions(predictions_template_df)\n    env.predict(predictions_template_df)\nprint('Done!')",
      "execution_count": null,
      "outputs": []
    },
    {
      "metadata": {
        "_uuid": "7c8fbcca87c7f6abc53e86408417bf12ce21bb7f"
      },
      "cell_type": "markdown",
      "source": "## **`write_submission_file`** function\n\nWrites your predictions to a CSV file (`submission.csv`) in the current working directory."
    },
    {
      "metadata": {
        "trusted": true,
        "_uuid": "2c8ed34ffb2c47c6e124530ec798c0b4eb01ddd5"
      },
      "cell_type": "code",
      "source": "env.write_submission_file()",
      "execution_count": null,
      "outputs": []
    },
    {
      "metadata": {
        "trusted": true,
        "_uuid": "d38aa8a67cad3f0c105db7e764ec9b805db39ceb"
      },
      "cell_type": "code",
      "source": "# We've got a submission file!\nimport os\nprint([filename for filename in os.listdir('.') if '.csv' in filename])",
      "execution_count": null,
      "outputs": []
    },
    {
      "metadata": {
        "_uuid": "f464f37885ffa763a2592e2867d74685f75be506"
      },
      "cell_type": "markdown",
      "source": "As indicated by the helper message, calling `write_submission_file` on its own does **not** make a submission to the competition.  It merely tells the module to write the `submission.csv` file as part of the Kernel's output.  To make a submission to the competition, you'll have to **Commit** your Kernel and find the generated `submission.csv` file in that Kernel Version's Output tab (note this is _outside_ of the Kernel Editor), then click \"Submit to Competition\".  When we re-run your Kernel during Stage Two, we will run the Kernel Version (generated when you hit \"Commit\") linked to your chosen Submission."
    },
    {
      "metadata": {
        "_uuid": "2e3a267ea3149403c49ff59515a1a669ca2d1f9f"
      },
      "cell_type": "markdown",
      "source": "## Restart the Kernel to run your code again\nIn order to combat cheating, you are only allowed to call `make_env` or iterate through `get_prediction_days` once per Kernel run.  However, while you're iterating on your model it's reasonable to try something out, change the model a bit, and try it again.  Unfortunately, if you try to simply re-run the code, or even refresh the browser page, you'll still be running on the same Kernel execution session you had been running before, and the `twosigmanews` module will still throw errors.  To get around this, you need to explicitly restart your Kernel execution session, which you can do by pressing the Restart button in the Kernel Editor's bottom Console tab:\n![Restart button](https://i.imgur.com/hudu8jF.png)"
    }
  ],
  "metadata": {
    "kernelspec": {
      "display_name": "Python 3",
      "language": "python",
      "name": "python3"
    },
    "language_info": {
      "name": "python",
      "version": "3.6.6",
      "mimetype": "text/x-python",
      "codemirror_mode": {
        "name": "ipython",
        "version": 3
      },
      "pygments_lexer": "ipython3",
      "nbconvert_exporter": "python",
      "file_extension": ".py"
    }
  },
  "nbformat": 4,
  "nbformat_minor": 1
}