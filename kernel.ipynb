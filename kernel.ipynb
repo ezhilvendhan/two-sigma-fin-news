{
  "cells": [
    {
      "metadata": {
        "_uuid": "8fbf02af18f3c8eb140f4a2215001fd97736fc95"
      },
      "cell_type": "markdown",
      "source": "**Imports**"
    },
    {
      "metadata": {
        "trusted": true,
        "_uuid": "c00c0933eb6456fbb3c2ec9fdceae8e63f48d06a"
      },
      "cell_type": "code",
      "source": "import gc\nfrom datetime import datetime, timedelta\nimport numpy as np\nimport pandas as pd\nfrom xgboost import XGBClassifier\nfrom lightgbm import LGBMClassifier\nimport lightgbm as lgb\nimport seaborn as sns\nimport matplotlib.pyplot as plt\nfrom sklearn import preprocessing\nfrom sklearn.ensemble import ExtraTreesClassifier\nfrom sklearn.metrics import log_loss, r2_score, mean_squared_error, mean_absolute_error\nfrom sklearn.model_selection import train_test_split, GridSearchCV\n\n%matplotlib inline",
      "execution_count": null,
      "outputs": []
    },
    {
      "metadata": {
        "_uuid": "6414a1a6295ec2d29307de041ba6426db72f79e3"
      },
      "cell_type": "markdown",
      "source": "**Setup Environment**"
    },
    {
      "metadata": {
        "_uuid": "8f2839f25d086af736a60e9eeb907d3b93b6e0e5",
        "_cell_guid": "b1076dfc-b9ad-4769-8c92-a6c4dae69d19",
        "trusted": true
      },
      "cell_type": "code",
      "source": "from kaggle.competitions import twosigmanews\nenv = twosigmanews.make_env()",
      "execution_count": null,
      "outputs": []
    },
    {
      "metadata": {
        "_uuid": "5e1013aa0f7b91b8aacafd92bd141f1dafad269a"
      },
      "cell_type": "markdown",
      "source": "**Get Training Data**"
    },
    {
      "metadata": {
        "_cell_guid": "79c7e3d0-c299-4dcb-8224-4455121ee9b0",
        "_uuid": "d629ff2d2480ee46fbb7e2d37f6b5fab8052498a",
        "trusted": true
      },
      "cell_type": "code",
      "source": "(market_train, news_train) = env.get_training_data()",
      "execution_count": null,
      "outputs": []
    },
    {
      "metadata": {
        "trusted": true,
        "_uuid": "5c7ff3691b88d4c13de46ea229c93d7e1af6146c"
      },
      "cell_type": "code",
      "source": "market_train.head()",
      "execution_count": null,
      "outputs": []
    },
    {
      "metadata": {
        "trusted": true,
        "_uuid": "622bd37d2870f46ed5646feb8eb184360db9ad1e"
      },
      "cell_type": "code",
      "source": "market_train.shape",
      "execution_count": null,
      "outputs": []
    },
    {
      "metadata": {
        "trusted": true,
        "_uuid": "bf4b64c9906d157950c125ed683fb27e6e8ca099"
      },
      "cell_type": "markdown",
      "source": "**Preprocess Data**"
    },
    {
      "metadata": {
        "trusted": true,
        "_uuid": "760b44c3995fe9f496c34270885c80844bed4e23"
      },
      "cell_type": "code",
      "source": "def preprocess_news(news_train):\n    drop_list = [\n        'audiences', 'subjects', 'assetName',\n        'headline', 'firstCreated', 'sourceTimestamp',\n    ]\n    news_train.drop(drop_list, axis=1, inplace=True)\n    \n    # Factorize categorical columns\n    for col in ['headlineTag', 'provider', 'sourceId']:\n        news_train[col], uniques = pd.factorize(news_train[col])\n        del uniques\n    \n    # Remove {} and '' from assetCodes column\n    news_train['assetCodes'] = news_train['assetCodes'].apply(lambda x: x[1:-1].replace(\"'\", \"\"))\n    return news_train\n\nnews_train = preprocess_news(news_train)",
      "execution_count": null,
      "outputs": []
    },
    {
      "metadata": {
        "trusted": true,
        "_uuid": "69c32d4efa8c592ca07386ed7231ecb6693eb88e"
      },
      "cell_type": "markdown",
      "source": "**Split Asset Codes in News Data**"
    },
    {
      "metadata": {
        "trusted": true,
        "_uuid": "dfee4cbb7bf50210f396883b091a354e5b27671b"
      },
      "cell_type": "code",
      "source": "def unstack_asset_codes(news_train):\n    codes = []\n    indexes = []\n    for i, values in news_train['assetCodes'].iteritems():\n        explode = values.split(\", \")\n        codes.extend(explode)\n        repeat_index = [int(i)]*len(explode)\n        indexes.extend(repeat_index)\n    index_df = pd.DataFrame({'news_index': indexes, 'assetCode': codes})\n    del codes, indexes\n    gc.collect()\n    return index_df\n\nindex_df = unstack_asset_codes(news_train)\nindex_df.head()",
      "execution_count": null,
      "outputs": []
    },
    {
      "metadata": {
        "trusted": true,
        "_uuid": "a45eab5178461aeb834a8f1771dae29ca2b5e238"
      },
      "cell_type": "code",
      "source": "def merge_news_on_index(news_train, index_df):\n    news_train['news_index'] = news_train.index.copy()\n\n    # Merge news on unstacked assets\n    news_unstack = index_df.merge(news_train, how='left', on='news_index')\n    news_unstack.drop(['news_index', 'assetCodes', 'sourceId'], axis=1, inplace=True)\n    return news_unstack\n\nnews_unstack = merge_news_on_index(news_train, index_df)\ndel news_train, index_df\ngc.collect()\nnews_unstack.head(3)",
      "execution_count": null,
      "outputs": []
    },
    {
      "metadata": {
        "_uuid": "739472f419eb1a4d801d0489309377bf63ae6b8c"
      },
      "cell_type": "markdown",
      "source": "**Group Data**"
    },
    {
      "metadata": {
        "trusted": true,
        "_uuid": "135390dbc1f4ad8ed197e37e9fa6f7c4bce7862b"
      },
      "cell_type": "code",
      "source": "gc.collect()\ndef group_news(news_frame):\n    news_frame['date'] = news_frame.time.dt.date  # Add date column\n    \n    aggregations = ['mean']\n    gp = news_frame.groupby(['assetCode', 'date']).agg(aggregations)\n    gp.columns = pd.Index([\"{}_{}\".format(e[0], e[1]) for e in gp.columns.tolist()])\n    gp.reset_index(inplace=True)\n    # Set datatype to float32\n    float_cols = {c: 'float32' for c in gp.columns if c not in ['assetCode', 'date']}\n    return gp.astype(float_cols)\n\nnews_agg = group_news(news_unstack)\ndel news_unstack; gc.collect()\nnews_agg.head(3)",
      "execution_count": null,
      "outputs": []
    },
    {
      "metadata": {
        "trusted": true,
        "_uuid": "d1b1f664ffa6e08a9924bc0bdc1e30338cca2bd8"
      },
      "cell_type": "markdown",
      "source": "**Merge News with Market Data**"
    },
    {
      "metadata": {
        "trusted": true,
        "_uuid": "f2c61d751814dda4e88753d80f1ea42d8c08c2ae"
      },
      "cell_type": "code",
      "source": "market_train['date'] = market_train.time.dt.date\ndf = market_train.merge(news_agg, how='left', on=['assetCode', 'date'])\ndel market_train, news_agg\ngc.collect()\ndf.head(3)",
      "execution_count": null,
      "outputs": []
    },
    {
      "metadata": {
        "_uuid": "64aa16e093f4ea5e61cbf5845765db49cbeb9f95"
      },
      "cell_type": "markdown",
      "source": "**EDA**"
    },
    {
      "metadata": {
        "_uuid": "3689a1cac47e5a13a5da4823210cb9a6c30ec2b9"
      },
      "cell_type": "markdown",
      "source": "**Market Data**\n* time(datetime64[ns, UTC]) - the current time (in marketdata, all rows are taken at 22:00 UTC)\n* assetCode(object) - a unique id of an asset\n* assetName(category) - the name that corresponds to a group of assetCodes. These may be \"Unknown\" if the corresponding assetCode does not have any rows in the news data.\n* universe(float64) - a boolean indicating whether or not the instrument on that day will be included in scoring. This value is not provided outside of the training data time period. The trading universe on a given date is the set of instruments that are avilable for trading (the scoring function will not consider instruments that are not in the trading universe). The trading universe changes daily.\n* volume(float64) - trading volume in shares for the day\n* close(float64) - the close price for the day (not adjusted for splits or dividends)\n* open(float64) - the open price for the day (not adjusted for splits or dividends)\n* returnsClosePrevRaw1(float64) - see returns explanation above\n* returnsOpenPrevRaw1(float64) - see returns explanation above\n* returnsClosePrevMktres1(float64) - see returns explanation above\n* returnsOpenPrevMktres1(float64) - see returns explanation above\n* returnsClosePrevRaw10(float64) - see returns explanation above\n* returnsOpenPrevRaw10(float64) - see returns explanation above\n* returnsClosePrevMktres10(float64) - see returns explanation above\n* returnsOpenPrevMktres10(float64) - see returns explanation above\n* returnsOpenNextMktres10(float64) - 10 day, market-residualized return. This is the target variable used in competition scoring. The market data has been filtered such that returnsOpenNextMktres10 is always not null.\n\n**News Data**\n\n* time(datetime64[ns, UTC]) - UTC timestamp showing when the data was available on the feed (second precision)\n* sourceTimestamp(datetime64[ns, UTC]) - UTC timestamp of this news item when it was created\n* firstCreated(datetime64[ns, UTC]) - UTC timestamp for the first version of the item\n* sourceId(object) - an Id for each news item\n* headline(object) - the item's headline\n* urgency(int8) - differentiates story types (1: alert, 3: article)\n* takeSequence(int16) - the take sequence number of the news item, starting at 1. For a given story, alerts and articles have separate sequences.\n* provider(category) - identifier for the organization which provided the news item (e.g. RTRS for Reuters News, BSW for Business Wire)\n* subjects(category) - topic codes and company identifiers that relate to this news item. Topic codes describe the news item's subject matter. These can cover asset classes, geographies, events, industries/sectors, and other types.\n* audiences(category) - identifies which desktop news product(s) the news item belongs to. They are typically tailored to specific audiences. (e.g. \"M\" for Money International News Service and \"FB\" for French General News Service)\n* bodySize(int32) - the size of the current version of the story body in characters\n* companyCount(int8) - the number of companies explicitly listed in the news item in the subjects field\n* headlineTag(object) - the Thomson Reuters headline tag for the news item\n* marketCommentary(bool) - boolean indicator that the item is discussing general market conditions, such as \"After the Bell\" summaries\n* sentenceCount(int16) - the total number of sentences in the news item. Can be used in conjunction with firstMentionSentence to determine the relative position of the first mention in the item.\n* wordCount(int32) - the total number of lexical tokens (words and punctuation) in the news item\n* assetCodes(category) - list of assets mentioned in the item\n* assetName(category) - name of the asset\n* firstMentionSentence(int16) - the first sentence, starting with the headline, in which the scored asset is mentioned.\n1: headline\n2: first sentence of the story body\n3: second sentence of the body, etc\n0: the asset being scored was not found in the news item's headline or body text. As a result, the entire news item's text (headline + body) will be used to determine the sentiment score.\n* relevance(float32) - a decimal number indicating the relevance of the news item to the asset. It ranges from 0 to 1. If the asset is mentioned in the headline, the relevance is set to 1. When the item is an alert (urgency == 1), relevance should be gauged by firstMentionSentence instead.\n* sentimentClass(int8) - indicates the predominant sentiment class for this news item with respect to the asset. The indicated class is the one with the highest probability.\n* sentimentNegative(float32) - probability that the sentiment of the news item was negative for the asset\n* sentimentNeutral(float32) - probability that the sentiment of the news item was neutral for the asset\n* sentimentPositive(float32) - probability that the sentiment of the news item was positive for the asset\n* sentimentWordCount(int32) - the number of lexical tokens in the sections of the item text that are deemed relevant to the asset. This can be used in conjunction with wordCount to determine the proportion of the news item discussing the asset.\n* noveltyCount12H(int16) - The 12 hour novelty of the content within a news item on a particular asset. It is calculated by comparing it with the asset-specific text over a cache of previous news items that contain the asset.\n* noveltyCount24H(int16) - same as above, but for 24 hours\n* noveltyCount3D(int16) - same as above, but for 3 days\n* noveltyCount5D(int16) - same as above, but for 5 days\n* noveltyCount7D(int16) - same as above, but for 7 days\n* volumeCounts12H(int16) - the 12 hour volume of news for each asset. A cache of previous news items is maintained and the number of news items that mention the asset within each of five historical periods is calculated.\n* volumeCounts24H(int16) - same as above, but for 24 hours\n* volumeCounts3D(int16) - same as above, but for 3 days\n* volumeCounts5D(int16) - same as above, but for 5 days\n* volumeCounts7D(int16) - same as above, but for 7 days"
    },
    {
      "metadata": {
        "trusted": true,
        "_uuid": "721924f9619997dad09b9dbf71ef6571755a68e2"
      },
      "cell_type": "code",
      "source": "df.info()",
      "execution_count": null,
      "outputs": []
    },
    {
      "metadata": {
        "trusted": true,
        "_uuid": "016bfcde2e319b4aab05b7d1e6b3ea2d1d4c2547"
      },
      "cell_type": "code",
      "source": "df.isna().sum()",
      "execution_count": null,
      "outputs": []
    },
    {
      "metadata": {
        "trusted": true,
        "_uuid": "d4f7b4d40f528611f8dd6f3516f7db9c8e6947fe"
      },
      "cell_type": "code",
      "source": "def do_eda_for_col(col_name):\n    print(\"Number of Nulls : {}\".format(df[col_name].isna().sum()))\n    print(df[col_name].describe())",
      "execution_count": null,
      "outputs": []
    },
    {
      "metadata": {
        "_uuid": "73300782e03e638a0355cb9e20edf4ae1d6ec4bf"
      },
      "cell_type": "markdown",
      "source": "**Time Column**"
    },
    {
      "metadata": {
        "trusted": true,
        "_uuid": "1133c7c16bfdb34b83dda6ab5b70df2101eb4c74"
      },
      "cell_type": "code",
      "source": "do_eda_for_col('time')",
      "execution_count": null,
      "outputs": []
    },
    {
      "metadata": {
        "_uuid": "3b32de02b2f8e556776a09ffdc51830146b8706b"
      },
      "cell_type": "markdown",
      "source": "**AssetCode**"
    },
    {
      "metadata": {
        "trusted": true,
        "_uuid": "870ce0924408d1d1ebff7fd5d38bb34c95507b73"
      },
      "cell_type": "code",
      "source": "do_eda_for_col('assetCode')",
      "execution_count": null,
      "outputs": []
    },
    {
      "metadata": {
        "_uuid": "b4ee746485544f1c6e253d5aceeac72f18f182ea"
      },
      "cell_type": "markdown",
      "source": "**Volume**"
    },
    {
      "metadata": {
        "trusted": true,
        "_uuid": "130a6e8ed0a8aa0b6cfd4483a88c205f49e1d4b3"
      },
      "cell_type": "code",
      "source": "do_eda_for_col('volume')",
      "execution_count": null,
      "outputs": []
    },
    {
      "metadata": {
        "_uuid": "33af4354e74b3fa18e1fbe63c854567f7195c40b"
      },
      "cell_type": "markdown",
      "source": "**close**"
    },
    {
      "metadata": {
        "trusted": true,
        "_uuid": "684562c3e2e610a48ac38648416cbf748620da7f"
      },
      "cell_type": "code",
      "source": "do_eda_for_col(\"close\")",
      "execution_count": null,
      "outputs": []
    },
    {
      "metadata": {
        "_uuid": "5cf084db87f3e66dc1481a7b8468b83c2076f940"
      },
      "cell_type": "markdown",
      "source": "**open**"
    },
    {
      "metadata": {
        "trusted": true,
        "_uuid": "68e33edbfd7b0e012fa83c09f734d3b2d1e8245e"
      },
      "cell_type": "code",
      "source": "do_eda_for_col(\"open\")",
      "execution_count": null,
      "outputs": []
    },
    {
      "metadata": {
        "_uuid": "3d83a07180afee9e4bef7316666bbc4848493f8d"
      },
      "cell_type": "markdown",
      "source": "**returnsClosePrevRaw1**"
    },
    {
      "metadata": {
        "trusted": true,
        "_uuid": "0f9e1cdf55116089069261a61f132fdadc9a5302"
      },
      "cell_type": "code",
      "source": "do_eda_for_col(\"returnsClosePrevRaw1\")",
      "execution_count": null,
      "outputs": []
    },
    {
      "metadata": {
        "_uuid": "581afccfea7f7ec17707386f929dfa2d977fe5cb"
      },
      "cell_type": "markdown",
      "source": "**returnsOpenPrevRaw1**"
    },
    {
      "metadata": {
        "trusted": true,
        "_uuid": "d08135a9440c9b4299b3a269841f9f1ff09e7db6"
      },
      "cell_type": "code",
      "source": "\ndo_eda_for_col(\"returnsOpenPrevRaw1\")",
      "execution_count": null,
      "outputs": []
    },
    {
      "metadata": {
        "_uuid": "bf6a7bc1fb2372a1b3105defedb7851ece893bb9"
      },
      "cell_type": "markdown",
      "source": "**returnsClosePrevMktres1**"
    },
    {
      "metadata": {
        "trusted": true,
        "_uuid": "52a2079156141f3aa1e11ef1dda3a89f3e519784"
      },
      "cell_type": "code",
      "source": "do_eda_for_col(\"returnsClosePrevMktres1\")\n",
      "execution_count": null,
      "outputs": []
    },
    {
      "metadata": {
        "_uuid": "423f388158e393e7c11ec630aee500e4c2068f02"
      },
      "cell_type": "markdown",
      "source": "**returnsOpenPrevMktres1**"
    },
    {
      "metadata": {
        "trusted": true,
        "_uuid": "b1f9807a732d3e813fc52c44e964d96722dc049b"
      },
      "cell_type": "code",
      "source": "do_eda_for_col(\"returnsOpenPrevMktres1\")\n",
      "execution_count": null,
      "outputs": []
    },
    {
      "metadata": {
        "_uuid": "403d5d6924d5443590c1c5479313ddcd53f4b4eb"
      },
      "cell_type": "markdown",
      "source": "**returnsClosePrevRaw10**"
    },
    {
      "metadata": {
        "trusted": true,
        "_uuid": "5b83f798dc97413aa0ac148f7f769ae8756c9fd6"
      },
      "cell_type": "code",
      "source": "do_eda_for_col(\"returnsClosePrevRaw10\")\n",
      "execution_count": null,
      "outputs": []
    },
    {
      "metadata": {
        "_uuid": "f4fc6301bf35e8b0f4175a9073e3232fe19817c6"
      },
      "cell_type": "markdown",
      "source": "**returnsOpenPrevRaw10**"
    },
    {
      "metadata": {
        "trusted": true,
        "_uuid": "e9f6e17d0ecaf6205b45fa73c3d4bf61e6c20b25"
      },
      "cell_type": "code",
      "source": "do_eda_for_col(\"returnsOpenPrevRaw10\")\n",
      "execution_count": null,
      "outputs": []
    },
    {
      "metadata": {
        "_uuid": "c4e3f311af7dc09a2e989caab813168aad7443ed"
      },
      "cell_type": "markdown",
      "source": "**returnsClosePrevMktres10**"
    },
    {
      "metadata": {
        "trusted": true,
        "_uuid": "cbc1a5afb36a73a15b61d45ebac26f88525f12fb"
      },
      "cell_type": "code",
      "source": "do_eda_for_col(\"returnsClosePrevMktres10\")\n",
      "execution_count": null,
      "outputs": []
    },
    {
      "metadata": {
        "_uuid": "7657e0bf4714f2a3321ecc53d0bfd935ae41cd9f"
      },
      "cell_type": "markdown",
      "source": "**returnsOpenPrevMktres10**"
    },
    {
      "metadata": {
        "trusted": true,
        "_uuid": "9d404ea9e1b9560811f71bb88e2babccb8c9c775"
      },
      "cell_type": "code",
      "source": "do_eda_for_col(\"returnsOpenPrevMktres10\")\n",
      "execution_count": null,
      "outputs": []
    },
    {
      "metadata": {
        "_uuid": "5837cf7952890567cf9b747f88016a16cef05647"
      },
      "cell_type": "markdown",
      "source": "**returnsOpenNextMktres10**"
    },
    {
      "metadata": {
        "trusted": true,
        "_uuid": "a50f96b36fd26c67f78b700dbdc6c3f84028fb4d"
      },
      "cell_type": "code",
      "source": "do_eda_for_col(\"returnsOpenNextMktres10\")\n",
      "execution_count": null,
      "outputs": []
    },
    {
      "metadata": {
        "_uuid": "b1c5616f6247fbbe167708a58fa5fffdeddcf54c"
      },
      "cell_type": "markdown",
      "source": "**universe**"
    },
    {
      "metadata": {
        "trusted": true,
        "_uuid": "938757dbf2e9be2f4a54e67aa79d392771f20776"
      },
      "cell_type": "code",
      "source": "do_eda_for_col(\"universe\")\n",
      "execution_count": null,
      "outputs": []
    },
    {
      "metadata": {
        "_uuid": "b10fdcf51347f7e40ac00ba67fbbc8de4f046d9f"
      },
      "cell_type": "markdown",
      "source": "**date**"
    },
    {
      "metadata": {
        "trusted": true,
        "_uuid": "22e5e699c822adc023b5774c02d3c8c965a4176b"
      },
      "cell_type": "code",
      "source": "do_eda_for_col(\"date\")\n",
      "execution_count": null,
      "outputs": []
    },
    {
      "metadata": {
        "_uuid": "b39de8ac15e0c4938bcf8d3d77e3406ebc1d4e39"
      },
      "cell_type": "markdown",
      "source": "**urgency_mean**"
    },
    {
      "metadata": {
        "trusted": true,
        "_uuid": "c7164495565c9aeb4942cb329d1c381d7c57f5f6"
      },
      "cell_type": "code",
      "source": "do_eda_for_col(\"urgency_mean\")\n",
      "execution_count": null,
      "outputs": []
    },
    {
      "metadata": {
        "_uuid": "dac71ebba857f0d84e5a27bd379bd74ec2cd9e53"
      },
      "cell_type": "markdown",
      "source": "**takeSequence_mean**"
    },
    {
      "metadata": {
        "trusted": true,
        "_uuid": "e54e05df62cd5519e8aa64315372cb01497fda6f"
      },
      "cell_type": "code",
      "source": "do_eda_for_col(\"takeSequence_mean\")\n",
      "execution_count": null,
      "outputs": []
    },
    {
      "metadata": {
        "_uuid": "7b8e7566ff6611af0c3bc3bb1678c02b2810150c"
      },
      "cell_type": "markdown",
      "source": "**provider_mean**"
    },
    {
      "metadata": {
        "trusted": true,
        "_uuid": "a1368366284aabfd8b24682844ca095e9a69cc90"
      },
      "cell_type": "code",
      "source": "do_eda_for_col(\"provider_mean\")\n",
      "execution_count": null,
      "outputs": []
    },
    {
      "metadata": {
        "_uuid": "29fd3a046ea1c90af835f3722433c6c747aa3dc1"
      },
      "cell_type": "markdown",
      "source": "**bodySize_mean**"
    },
    {
      "metadata": {
        "trusted": true,
        "_uuid": "489a371606f16f936309d851195f15e6ef84bd30"
      },
      "cell_type": "code",
      "source": "do_eda_for_col(\"bodySize_mean\")\n",
      "execution_count": null,
      "outputs": []
    },
    {
      "metadata": {
        "_uuid": "0b29c375e506487b44687e9579ab928fe808c9af"
      },
      "cell_type": "markdown",
      "source": "**companyCount_mean**"
    },
    {
      "metadata": {
        "trusted": true,
        "_uuid": "92e9c6c7fba3134fb1d09430c0a469d0b621bd2e"
      },
      "cell_type": "code",
      "source": "do_eda_for_col(\"companyCount_mean\")",
      "execution_count": null,
      "outputs": []
    },
    {
      "metadata": {
        "_uuid": "70aadee618fb3c14709367e89984de6c54f848d1"
      },
      "cell_type": "markdown",
      "source": "**headlineTag_mean**"
    },
    {
      "metadata": {
        "trusted": true,
        "_uuid": "b3e1eae07539b7c7b4d3dd7f505fdf1e1d6a7aaf"
      },
      "cell_type": "code",
      "source": "do_eda_for_col(\"headlineTag_mean\")\n",
      "execution_count": null,
      "outputs": []
    },
    {
      "metadata": {
        "_uuid": "ff378a8fa87f6dd465629ec9dacea012253b7fb6"
      },
      "cell_type": "markdown",
      "source": "**marketCommentary_mean**"
    },
    {
      "metadata": {
        "trusted": true,
        "_uuid": "3304e27a7ec79153f490320824ba9dcd640fc590"
      },
      "cell_type": "code",
      "source": "do_eda_for_col(\"marketCommentary_mean\")\n",
      "execution_count": null,
      "outputs": []
    },
    {
      "metadata": {
        "_uuid": "54f3a93f222eca4ea85de9f7393250951f81eee7"
      },
      "cell_type": "markdown",
      "source": "**sentenceCount_mean**"
    },
    {
      "metadata": {
        "trusted": true,
        "_uuid": "236322bb5e150b71290cb10c09e50f3ee67d346d"
      },
      "cell_type": "code",
      "source": "do_eda_for_col(\"sentenceCount_mean\")\n",
      "execution_count": null,
      "outputs": []
    },
    {
      "metadata": {
        "_uuid": "3fe836eb8e50d4199296dd572c11c12c21c46907"
      },
      "cell_type": "markdown",
      "source": "**wordCount_mean**"
    },
    {
      "metadata": {
        "trusted": true,
        "_uuid": "e63336ad39064a75dc215f5149a0a69feb656771"
      },
      "cell_type": "code",
      "source": "do_eda_for_col(\"wordCount_mean\")\n",
      "execution_count": null,
      "outputs": []
    },
    {
      "metadata": {
        "_uuid": "f1e7507a223e7ba54bd8c5bb2320f45d7db1175d"
      },
      "cell_type": "markdown",
      "source": "**firstMentionSentence_mean**"
    },
    {
      "metadata": {
        "trusted": true,
        "_uuid": "2a86af250cfa50921d1b1520b2210517ae542b1e"
      },
      "cell_type": "code",
      "source": "do_eda_for_col(\"firstMentionSentence_mean\")\n",
      "execution_count": null,
      "outputs": []
    },
    {
      "metadata": {
        "_uuid": "541adddac21e65608a1d0c4a7718b75156ae36b1"
      },
      "cell_type": "markdown",
      "source": "**relevance_mean**"
    },
    {
      "metadata": {
        "trusted": true,
        "_uuid": "b4c38c2378ed6ef096a883c5b7025954ac4f7cbb"
      },
      "cell_type": "code",
      "source": "do_eda_for_col(\"relevance_mean\")\n",
      "execution_count": null,
      "outputs": []
    },
    {
      "metadata": {
        "_uuid": "f4393bf47cacb4a3c4dbe6d377b48ea31a18b116"
      },
      "cell_type": "markdown",
      "source": "**sentimentClass_mean**"
    },
    {
      "metadata": {
        "trusted": true,
        "_uuid": "2bec7df853bc125f921e4ba3b30394f23eaf7157"
      },
      "cell_type": "code",
      "source": "do_eda_for_col(\"sentimentClass_mean\")\n",
      "execution_count": null,
      "outputs": []
    },
    {
      "metadata": {
        "_uuid": "af4723d889d89bfe6473e53717565a65ee643f2e"
      },
      "cell_type": "markdown",
      "source": "**sentimentNegative_mean**"
    },
    {
      "metadata": {
        "trusted": true,
        "_uuid": "84bf6ee5cd04c8dc38c8db686741d38a27c3ea93"
      },
      "cell_type": "code",
      "source": "do_eda_for_col(\"sentimentNegative_mean\")\n",
      "execution_count": null,
      "outputs": []
    },
    {
      "metadata": {
        "_uuid": "0d53f3e614eeae054a6e9b666595e040c6de593e"
      },
      "cell_type": "markdown",
      "source": "**sentimentNeutral_mean**"
    },
    {
      "metadata": {
        "trusted": true,
        "_uuid": "13ddb3337f55cd5fb0a6d396fbdb25c9788198fa"
      },
      "cell_type": "code",
      "source": "do_eda_for_col(\"sentimentNeutral_mean\")\n",
      "execution_count": null,
      "outputs": []
    },
    {
      "metadata": {
        "_uuid": "541b3153b0eae900f2912ac724b54572675304bf"
      },
      "cell_type": "markdown",
      "source": "**sentimentPositive_mean**"
    },
    {
      "metadata": {
        "trusted": true,
        "_uuid": "7bb54f64ffdf086a2004e50770fe2c1a05386744"
      },
      "cell_type": "code",
      "source": "do_eda_for_col(\"sentimentPositive_mean\")\n",
      "execution_count": null,
      "outputs": []
    },
    {
      "metadata": {
        "_uuid": "7b16c65b5b8d0bb2362189da11303c8b958c1e7d"
      },
      "cell_type": "markdown",
      "source": "**sentimentWordCount_mean**"
    },
    {
      "metadata": {
        "trusted": true,
        "_uuid": "6466dd75272a27b48c0fdcb17de4f73c7b614c0f"
      },
      "cell_type": "code",
      "source": "do_eda_for_col(\"sentimentWordCount_mean\")\n",
      "execution_count": null,
      "outputs": []
    },
    {
      "metadata": {
        "_uuid": "f5eb5c22e1b818fcd9b1ee68f84652b3e0228560"
      },
      "cell_type": "markdown",
      "source": "**noveltyCount12H_mean**"
    },
    {
      "metadata": {
        "trusted": true,
        "_uuid": "c74a3c2aebdca9bb9d08384cdf35704e962a9404"
      },
      "cell_type": "code",
      "source": "do_eda_for_col(\"noveltyCount12H_mean\")\n",
      "execution_count": null,
      "outputs": []
    },
    {
      "metadata": {
        "_uuid": "7f9f61ed808c2dffa975751d2fa17e295325af6b"
      },
      "cell_type": "markdown",
      "source": "**noveltyCount24H_mean**"
    },
    {
      "metadata": {
        "trusted": true,
        "_uuid": "0efebf4253250d571eb077ee09d19e3b3391fcda"
      },
      "cell_type": "code",
      "source": "do_eda_for_col(\"noveltyCount24H_mean\")\n",
      "execution_count": null,
      "outputs": []
    },
    {
      "metadata": {
        "_uuid": "402a477af38da86b574de24b9058bea5b627d6ac"
      },
      "cell_type": "markdown",
      "source": "**noveltyCount3D_mean**"
    },
    {
      "metadata": {
        "trusted": true,
        "_uuid": "7ff660c71f370ab97e7463c63176d80ec7d031bf"
      },
      "cell_type": "code",
      "source": "do_eda_for_col(\"noveltyCount3D_mean\")\n",
      "execution_count": null,
      "outputs": []
    },
    {
      "metadata": {
        "_uuid": "dbd341742edc87aee78c9dd6fc66daf9ad71d933"
      },
      "cell_type": "markdown",
      "source": "**noveltyCount5D_mean**"
    },
    {
      "metadata": {
        "trusted": true,
        "_uuid": "e746f8538ffb97728805b23e535225d66c5eb7f4"
      },
      "cell_type": "code",
      "source": "do_eda_for_col(\"noveltyCount5D_mean\")\n",
      "execution_count": null,
      "outputs": []
    },
    {
      "metadata": {
        "_uuid": "32485291c393ec2bd3f2d241e5eb9dfc56bbc788"
      },
      "cell_type": "markdown",
      "source": "**noveltyCount7D_mean**"
    },
    {
      "metadata": {
        "trusted": true,
        "_uuid": "d4fb9ce014816e5a7310223dc8c539b3ef93fccf"
      },
      "cell_type": "code",
      "source": "do_eda_for_col(\"noveltyCount7D_mean\")\n",
      "execution_count": null,
      "outputs": []
    },
    {
      "metadata": {
        "_uuid": "9058e955f11661a4f1eb5ad83e3f3bbec2084591"
      },
      "cell_type": "markdown",
      "source": "**volumeCounts12H_mean**"
    },
    {
      "metadata": {
        "trusted": true,
        "_uuid": "cb72444685ae6732128f3926e7340db3719f8c64"
      },
      "cell_type": "code",
      "source": "do_eda_for_col(\"volumeCounts12H_mean\")\n",
      "execution_count": null,
      "outputs": []
    },
    {
      "metadata": {
        "_uuid": "2031441320098b45832259d61dfdcd0dbac3ec4c"
      },
      "cell_type": "markdown",
      "source": "**volumeCounts24H_mean**"
    },
    {
      "metadata": {
        "trusted": true,
        "_uuid": "fac43b09c60414ef18a3e09cabcbf0d4ee24ea06"
      },
      "cell_type": "code",
      "source": "do_eda_for_col(\"volumeCounts24H_mean\")\n",
      "execution_count": null,
      "outputs": []
    },
    {
      "metadata": {
        "_uuid": "f34a5a96f2b0adecc2777f406bef8f615ffecbc7"
      },
      "cell_type": "markdown",
      "source": "**volumeCounts3D_mean**"
    },
    {
      "metadata": {
        "trusted": true,
        "_uuid": "47e4832c2d9932355bf57a0ec7c5feeb98a21475"
      },
      "cell_type": "code",
      "source": "do_eda_for_col(\"volumeCounts3D_mean\")\n",
      "execution_count": null,
      "outputs": []
    },
    {
      "metadata": {
        "_uuid": "047f913e08800ceb67f675901ccd1bd55f0a40ce"
      },
      "cell_type": "markdown",
      "source": "**volumeCounts5D_mean**"
    },
    {
      "metadata": {
        "trusted": true,
        "_uuid": "c9003fcc060433baff5273f3a03cecb1b1bc05c2"
      },
      "cell_type": "code",
      "source": "do_eda_for_col(\"volumeCounts5D_mean\")\n",
      "execution_count": null,
      "outputs": []
    },
    {
      "metadata": {
        "_uuid": "4316f1b8c8b3efb627b13403c4be6d1bf4b3fa8c"
      },
      "cell_type": "markdown",
      "source": "**volumeCounts7D_mean**"
    },
    {
      "metadata": {
        "trusted": true,
        "_uuid": "682a0f78c3c1e3167e30695591a38c4f3492f1ea"
      },
      "cell_type": "code",
      "source": "do_eda_for_col(\"volumeCounts7D_mean\")",
      "execution_count": null,
      "outputs": []
    },
    {
      "metadata": {
        "_uuid": "6c2513942eb14e906007f018f01edef7cf20c779"
      },
      "cell_type": "markdown",
      "source": "**Data Cleanup**"
    },
    {
      "metadata": {
        "trusted": true,
        "_uuid": "c07a2a988dea9d3078632637c7987957df63e780"
      },
      "cell_type": "code",
      "source": "floaty_col = df.head(3).dtypes[\n    (df.head(3).dtypes==\"float64\")|(df.head(3).dtypes==\"float32\")].index.values",
      "execution_count": null,
      "outputs": []
    },
    {
      "metadata": {
        "trusted": true,
        "_uuid": "55d2dac5d1c6bf26080ee21c8315a32a7e6eb7d7"
      },
      "cell_type": "code",
      "source": "def missing_value_impute(data):\n    grouped_data = data.groupby('assetCode')\n    for i in data.columns:\n        if data[i].dtype == \"object\":\n            data[i] = data[i].fillna(\"other\")\n        elif (data[i].dtype == \"float32\" or data[i].dtype == \"float64\"):\n            data[i] = data[i].fillna(grouped_data[i].mean())\n            data[i] = data[i].fillna(0)\n        else:\n            pass\n    return data",
      "execution_count": null,
      "outputs": []
    },
    {
      "metadata": {
        "trusted": true,
        "_uuid": "020ef139b12d02fad2aee14404c52fb851e296ba",
        "scrolled": false
      },
      "cell_type": "code",
      "source": "gc.collect()\nmissing_value_impute(df)\n# scaler = preprocessing.Normalizer()\n# df[floaty_col] = scaler.fit_transform(df[floaty_col])",
      "execution_count": null,
      "outputs": []
    },
    {
      "metadata": {
        "trusted": true,
        "_uuid": "35ee413419e18928ccd85299b77e63427481fcfd"
      },
      "cell_type": "code",
      "source": "df.isna().sum()",
      "execution_count": null,
      "outputs": []
    },
    {
      "metadata": {
        "trusted": true,
        "scrolled": false,
        "_uuid": "c717611a2d4f07f5ca40bf101cfc32958de2ba25"
      },
      "cell_type": "code",
      "source": "gc.collect()\n# feature_rel = sns.PairGrid(df, hue=None, palette=sns.color_palette(\"cubehelix\", 3), \n#                  vars=[\n#                      'returnsOpenNextMktres10',\n#                    'close', 'open', \n# #                      'returnsClosePrevRaw1', 'returnsOpenPrevRaw1',\n# #                    'returnsClosePrevMktres1', 'returnsOpenPrevMktres1',\n#                    'returnsClosePrevRaw10', #'returnsOpenPrevRaw10',\n#                    'returnsClosePrevMktres10', #'returnsOpenPrevMktres10',\n#                    'urgency_mean', 'provider_mean',\n# #                    'companyCount_mean', 'marketCommentary_mean', \n# #                      'firstMentionSentence_mean', 'relevance_mean',\n# #                    'sentimentNegative_mean', 'sentimentPositive_mean',\n# #                    'noveltyCount12H_mean', 'noveltyCount24H_mean',\n# #                    'noveltyCount3D_mean', \n# #                      'volumeCounts12H_mean','volumeCounts24H_mean', \n# #                      'volumeCounts3D_mean'\n#                  ])\n# feature_rel.map(plt.scatter)\n# plt.show()",
      "execution_count": null,
      "outputs": []
    },
    {
      "metadata": {
        "trusted": true,
        "_uuid": "1dfddf47e9a31c31d9270b8827572d83f60dbee6"
      },
      "cell_type": "markdown",
      "source": "**Metrics**"
    },
    {
      "metadata": {
        "trusted": true,
        "_uuid": "e4397c419f3d3ace35f264ce02887088d4353391"
      },
      "cell_type": "code",
      "source": "def custom_metric(date, pred_proba, num_target, universe):\n    y = pred_proba*2 - 1\n    r = num_target.clip(-1,1) # get rid of outliers\n    x = y * r * universe\n    result = pd.DataFrame({'day' : date, 'x' : x})\n    x_t = result.groupby('day').sum().values\n    return np.mean(x_t) / np.std(x_t)",
      "execution_count": null,
      "outputs": []
    },
    {
      "metadata": {
        "trusted": true,
        "_uuid": "21f29fc90fff6877e80f15cdd1e09cc342f2fd25"
      },
      "cell_type": "code",
      "source": "date = df.date\nnum_target = df.returnsOpenNextMktres10.astype('float32')\nbin_target = (df.returnsOpenNextMktres10 >= 0).astype('int8')\n# universe = df.universe.astype('int8')\n# Drop columns that are not features\ndf.drop([\n    'returnsOpenNextMktres10', \n    'date', \n    'universe', \n    'assetCode', \n    'assetName', \n    'time'], \n        axis=1, inplace=True)\ndf = df.astype('float32')  # Set all remaining columns to float32 datatype\ngc.collect()",
      "execution_count": null,
      "outputs": []
    },
    {
      "metadata": {
        "trusted": true,
        "_uuid": "cf34d6bffc2fb6d140467d4833e791a29c4f43f3"
      },
      "cell_type": "code",
      "source": "train_index, test_index = train_test_split(df.index.values, test_size=0.1, shuffle=False)",
      "execution_count": null,
      "outputs": []
    },
    {
      "metadata": {
        "_uuid": "0d69c4dcdd81ba1218efef1ac68e3092df5bb29d"
      },
      "cell_type": "markdown",
      "source": "**Baseline Model - ExtraTreesClassifier**"
    },
    {
      "metadata": {
        "trusted": true,
        "_uuid": "1cda1d747ac9995041321025fa7e8daf8d2fe6be"
      },
      "cell_type": "code",
      "source": "def plot_model_performance(y, y_hat):\n    print(\"R2 score: \", r2_score(y, y_hat))\n    print('Mean Absolute Error:', mean_absolute_error(y, y_hat))\n    mse = mean_squared_error(y, y_hat)\n    print('Mean Squared Error:', mse)  \n    print('Root Mean Squared Error:', np.sqrt(mse)) ",
      "execution_count": null,
      "outputs": []
    },
    {
      "metadata": {
        "trusted": true,
        "_uuid": "d8e1b42c5fe3bc220159f01b4fd3a6a3d9046070",
        "_kg_hide-input": false,
        "_kg_hide-output": false
      },
      "cell_type": "code",
      "source": "def do_baseline_modeling(inp_features, target_feature, train_index, test_index):\n    model = ExtraTreesClassifier(bootstrap=True, oob_score=True,\n                                    n_estimators=10, class_weight=\"balanced_subsample\")\n    prev_oob_score = 0.0\n    for i in range(1, 10):\n        gc.collect()\n        model.set_params(n_estimators=i)    \n        model.fit(inp_features.iloc[train_index], target_feature.iloc[train_index])\n        print(model.oob_score_)\n        if i > 1 and (model.oob_score_ - prev_oob_score < 0.05):\n            gc.collect()\n            break\n        prev_oob_score = model.oob_score_\n        gc.collect()\n    y_hat = model.predict(inp_features.iloc[test_index])\n    plot_model_performance(bin_target[test_index], y_hat)\n    return model\n\nbaseline_model = do_baseline_modeling(df, bin_target, \n                                    train_index, test_index)\nimp_features = baseline_model.feature_importances_\nprint(imp_features)",
      "execution_count": null,
      "outputs": []
    },
    {
      "metadata": {
        "trusted": true,
        "_uuid": "19913046b1154bf96b748f250e57a68d4dd95271"
      },
      "cell_type": "code",
      "source": "def drop_unimp_features(model, data):\n    top_n = -20\n    ft_indices = np.argsort(model.feature_importances_)[top_n:]\n    print(ft_indices)\n    print(\"Top n features\", data.columns[ft_indices])\n    cols_to_ignore = data.columns[np.argsort(model.feature_importances_)[:len(data.columns)+top_n]]\n    print(\"Columns to ignore\", cols_to_ignore)\n    data.drop(cols_to_ignore, axis=1, inplace=True)\n    return cols_to_ignore",
      "execution_count": null,
      "outputs": []
    },
    {
      "metadata": {
        "trusted": true,
        "_uuid": "7f24b9d7d0f25e40fc5674c88fe5d8d802865758"
      },
      "cell_type": "code",
      "source": "",
      "execution_count": null,
      "outputs": []
    },
    {
      "metadata": {
        "_uuid": "ba732fbd7bdfb0d5327df150283fdd9656beaa00"
      },
      "cell_type": "markdown",
      "source": "**LightGBM - Get Best Params**"
    },
    {
      "metadata": {
        "trusted": true,
        "_uuid": "8f6484618d95c2eeeadd2824877a2f749c7ea21a"
      },
      "cell_type": "code",
      "source": "def evaluate_model(df, target, train_index, test_index, params):\n    params['n_jobs'] = 2  # Use 2 cores/threads\n    #model = XGBClassifier(**params)\n    model = LGBMClassifier(**params)\n    model.fit(df.iloc[train_index], target.iloc[train_index])\n    return log_loss(target.iloc[test_index], model.predict_proba(df.iloc[test_index]))",
      "execution_count": null,
      "outputs": []
    },
    {
      "metadata": {
        "trusted": true,
        "_uuid": "761ca6626e868d160c3ac2457a3d6fbd367d026f"
      },
      "cell_type": "code",
      "source": "param_grid = {\n    'learning_rate': [0.01],\n    'num_leaves': [30],\n    'n_estimators': [200],\n    'min_child_samples': [20],\n    'colsample_bytree': [0.8],\n    'subsample': [1.0],\n    'reg_alpha': [0.8],\n    'reg_lambda': [0.4],\n}\nbest_eval_score = 0\nfor i in range(2):  # Hundred runs\n    print(\"Iteration: \", i)\n    params = {k: np.random.choice(v) for k, v in param_grid.items()}\n    score = evaluate_model(df, bin_target, train_index, test_index, params)\n    if score < best_eval_score or best_eval_score == 0:\n        best_eval_score = score\n        best_params = params\n        print(\"Current Best Param\", best_params)\nprint(\"Best evaluation logloss\", best_eval_score)\nprint(\"Best Params\", best_params)",
      "execution_count": null,
      "outputs": []
    },
    {
      "metadata": {
        "trusted": true,
        "_uuid": "86f12b885a57962a23538a7979e2117b73883e0b"
      },
      "cell_type": "markdown",
      "source": "**Train Predictions**"
    },
    {
      "metadata": {
        "trusted": true,
        "_uuid": "9b797c7ed09883f65b3c73c417aeae92706ce0b1"
      },
      "cell_type": "code",
      "source": "# Train model with test data and evaluate against Baseline Model\ngc.collect()\nclf = LGBMClassifier(**best_params)\nclf.fit(df.iloc[train_index], bin_target.iloc[train_index])\nplot_model_performance(bin_target[test_index], clf.predict(df.iloc[test_index]))",
      "execution_count": null,
      "outputs": []
    },
    {
      "metadata": {
        "trusted": true,
        "_uuid": "f26381b1acf0f25e1f32eb45779d4620d7be1764"
      },
      "cell_type": "code",
      "source": "gc.collect()\nd_train = lgb.Dataset(df.iloc[train_index], label=bin_target.iloc[train_index])\nd_test = lgb.Dataset(df.iloc[test_index], label=bin_target.iloc[test_index])\nwatchlist = [d_test]\nmodel = lgb.train(best_params, d_train, watchlist, verbose_eval=1)\nplot_model_performance(bin_target[test_index], model.predict(df.iloc[test_index]))",
      "execution_count": null,
      "outputs": []
    },
    {
      "metadata": {
        "trusted": true,
        "_uuid": "432aaedef529fb4bbd5700376bad23e76f95265f"
      },
      "cell_type": "code",
      "source": "# Train model with full data\n# clf = LGBMClassifier(**best_params)\ngc.collect()\nd_train = lgb.Dataset(df, label=bin_target)\nclf = lgb.train(best_params, d_train, [bin_target], verbose_eval=1)",
      "execution_count": null,
      "outputs": []
    },
    {
      "metadata": {
        "trusted": true,
        "_uuid": "c9eb0c6ad52379d9bba87a656f30d11d41295874"
      },
      "cell_type": "code",
      "source": "clf.predict_pro",
      "execution_count": null,
      "outputs": []
    },
    {
      "metadata": {
        "_uuid": "16357f4579ec3645fbe2a4db141ebcada8c012ae"
      },
      "cell_type": "markdown",
      "source": "**Write Submission**"
    },
    {
      "metadata": {
        "trusted": true,
        "_uuid": "8e120342de9a28859edba2a9d2d73e7c8c8d13e8"
      },
      "cell_type": "code",
      "source": "days = env.get_prediction_days()",
      "execution_count": null,
      "outputs": []
    },
    {
      "metadata": {
        "trusted": true,
        "_uuid": "52cc8e007afe4dd34c5d78d2ac34469b2dcdc72e"
      },
      "cell_type": "code",
      "source": "def write_submission(model, env, days):\n    for (market_obs_df, news_obs_df, predictions_template_df) in days:\n        news_obs_df = preprocess_news(news_obs_df)\n        # Unstack news\n        index_df = unstack_asset_codes(news_obs_df)\n        news_unstack = merge_news_on_index(news_obs_df, index_df)\n        # Group and and get aggregations (mean)\n        news_obs_agg = group_news(news_unstack)\n\n        # Join market and news frames\n        market_obs_df['date'] = market_obs_df.time.dt.date\n        obs_df = market_obs_df.merge(news_obs_agg, how='left', on=['assetCode', 'date'])\n        del market_obs_df, news_obs_agg, news_obs_df, news_unstack, index_df\n        gc.collect()\n        obs_df = obs_df[obs_df.assetCode.isin(predictions_template_df.assetCode)]\n#         print(obs_df.columns)\n        # Drop cols that are not features\n        dropped_features = cols_to_ignore.tolist() + ['universe', 'date', \n                                             'assetCode', 'assetName', 'time']\n        feats = [c for c in obs_df.columns if c not in dropped_features]\n\n        preds = model.predict_proba(obs_df[feats])[:, 1] * 2 - 1\n        sub = pd.DataFrame({'assetCode': obs_df['assetCode'], 'confidence': preds})\n        predictions_template_df = predictions_template_df.merge(sub, how='left').drop(\n            'confidenceValue', axis=1).fillna(0).rename(columns={'confidence':'confidenceValue'})\n        \n        env.predict(predictions_template_df)\n        del obs_df, predictions_template_df, preds, sub\n        gc.collect()\n    env.write_submission_file()\n\nif 'days' not in globals():\n    days = env.get_prediction_days()   \nwrite_submission(clf, env, days)",
      "execution_count": null,
      "outputs": []
    },
    {
      "metadata": {
        "_uuid": "2ab1561b9849193c43f68e37a885d5d09a9fd41a"
      },
      "cell_type": "markdown",
      "source": "**Feature Importance**"
    },
    {
      "metadata": {
        "trusted": true,
        "_uuid": "3b4d00e4c0e177e7dc233413f249086c124e83f6"
      },
      "cell_type": "code",
      "source": "feat_importance = pd.DataFrame()\nfeat_importance[\"feature\"] = df.columns\nfeat_importance[\"gain\"] = clf.booster_.feature_importance(importance_type='gain')\nfeat_importance.sort_values(by='gain', ascending=False, inplace=True)\nplt.figure(figsize=(8,10))\nax = sns.barplot(y=\"feature\", x=\"gain\", data=feat_importance)",
      "execution_count": null,
      "outputs": []
    },
    {
      "metadata": {
        "trusted": true,
        "_uuid": "47f4989ebc1a3430f889f99ee854012b05b62479"
      },
      "cell_type": "code",
      "source": "",
      "execution_count": null,
      "outputs": []
    }
  ],
  "metadata": {
    "kernelspec": {
      "display_name": "Python 3",
      "language": "python",
      "name": "python3"
    },
    "language_info": {
      "name": "python",
      "version": "3.6.6",
      "mimetype": "text/x-python",
      "codemirror_mode": {
        "name": "ipython",
        "version": 3
      },
      "pygments_lexer": "ipython3",
      "nbconvert_exporter": "python",
      "file_extension": ".py"
    }
  },
  "nbformat": 4,
  "nbformat_minor": 1
}